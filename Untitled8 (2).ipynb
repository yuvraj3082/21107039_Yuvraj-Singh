{
  "nbformat": 4,
  "nbformat_minor": 0,
  "metadata": {
    "colab": {
      "name": "Untitled8.ipynb",
      "provenance": [],
      "collapsed_sections": []
    },
    "kernelspec": {
      "name": "python3",
      "display_name": "Python 3"
    },
    "language_info": {
      "name": "python"
    }
  },
  "cells": [
    {
      "cell_type": "code",
      "source": [
        "#Program for Question 1\n",
        "#\"Pyhton is a case sensitive language\" \n",
        "#1(a)\n",
        "print(\"Length of the given statement is-\")\n",
        "a=\"Python is a case sensitive language\"\n",
        "len(a)"
      ],
      "metadata": {
        "colab": {
          "base_uri": "https://localhost:8080/"
        },
        "id": "gNondkH9QUnS",
        "outputId": "0099c310-cfe3-44d0-91d9-4c100a8391e3"
      },
      "execution_count": null,
      "outputs": [
        {
          "output_type": "stream",
          "name": "stdout",
          "text": [
            "ques1(a)\n",
            "Length of the given statement is-\n"
          ]
        },
        {
          "output_type": "execute_result",
          "data": {
            "text/plain": [
              "35"
            ]
          },
          "metadata": {},
          "execution_count": 3
        }
      ]
    },
    {
      "cell_type": "code",
      "source": [
        "#1(b)\n",
        "a=\"Python is a case sensitive language\"\n",
        "b=a[::-1]\n",
        "print(b)"
      ],
      "metadata": {
        "id": "D4CkzjchQYi1",
        "colab": {
          "base_uri": "https://localhost:8080/"
        },
        "outputId": "a7d9a626-71c0-46b1-b5c6-6b6d31ee9ad8"
      },
      "execution_count": null,
      "outputs": [
        {
          "output_type": "stream",
          "name": "stdout",
          "text": [
            "ques1(b)\n",
            "egaugnal evitisnes esac a si nohtyP\n"
          ]
        }
      ]
    },
    {
      "cell_type": "code",
      "source": [
        "#1(c)\n",
        "a=\"Python is a case sensitive language\"\n",
        "print(a[10:27])\n"
      ],
      "metadata": {
        "id": "TX3u9BOmQbAZ",
        "colab": {
          "base_uri": "https://localhost:8080/"
        },
        "outputId": "a58be586-fae4-4f84-c075-0c0fb83899c8"
      },
      "execution_count": null,
      "outputs": [
        {
          "output_type": "stream",
          "name": "stdout",
          "text": [
            "ques1(c)\n",
            "a case sensitive \n"
          ]
        }
      ]
    },
    {
      "cell_type": "code",
      "source": [
        "#1(d)\n",
        "a=\"Python is a case sensitive language\"\n",
        "print(a.replace('a case sensitive','object oriented'))"
      ],
      "metadata": {
        "id": "N-xoQvZ3QcmO",
        "colab": {
          "base_uri": "https://localhost:8080/"
        },
        "outputId": "0d64b3fa-82b1-4a01-cf74-ab2b279285bf"
      },
      "execution_count": null,
      "outputs": [
        {
          "output_type": "stream",
          "name": "stdout",
          "text": [
            "ques1(d)\n",
            "Python is object oriented language\n"
          ]
        }
      ]
    },
    {
      "cell_type": "code",
      "source": [
        "#1(e)\n",
        "a=\"Python is a case sensitive language\"\n",
        "result=a.find(\"a\")\n",
        "print(result)"
      ],
      "metadata": {
        "id": "Dvuu73VAQegn",
        "colab": {
          "base_uri": "https://localhost:8080/"
        },
        "outputId": "f802c2e6-0cea-4523-b290-89546152565d"
      },
      "execution_count": null,
      "outputs": [
        {
          "output_type": "stream",
          "name": "stdout",
          "text": [
            "ques1(e)\n",
            "10\n"
          ]
        }
      ]
    },
    {
      "cell_type": "code",
      "source": [
        "#1(f)\n",
        "a=\"Python is a case sensitive language\"\n",
        "print(a.replace(' ',''))"
      ],
      "metadata": {
        "id": "1fZV9KYrQgDj",
        "colab": {
          "base_uri": "https://localhost:8080/"
        },
        "outputId": "b7c280a5-35c3-40d4-f0c8-a36d587fdb2d"
      },
      "execution_count": null,
      "outputs": [
        {
          "output_type": "stream",
          "name": "stdout",
          "text": [
            "ques1(f)\n",
            "Pythonisacasesensitivelanguage\n"
          ]
        }
      ]
    },
    {
      "cell_type": "code",
      "source": [
        "#Program for question 2\n",
        "#SID, CGPA, Department name as variables\n",
        "name=\"Yuvraj\"\n",
        "branch=\"Mechanical\"\n",
        "SID=\"21107039\"\n",
        "CGPA=\"8.8\"\n",
        "print(\"Hey, {n} here! \\nMY SID is {sid} \\nI am from {dept} department and my CGPA is {cg}\".format(n=name, sid=SID, dept=branch, cg=CGPA))\n"
      ],
      "metadata": {
        "id": "yKLk8kX4QiBW",
        "colab": {
          "base_uri": "https://localhost:8080/"
        },
        "outputId": "08124ad7-9c05-4f03-dd6e-62324db4ac86"
      },
      "execution_count": 20,
      "outputs": [
        {
          "output_type": "stream",
          "name": "stdout",
          "text": [
            "Hey, Yuvraj here! \n",
            "MY SID is 21107039 \n",
            "I am from Mechanical department and my CGPA is 8.8\n"
          ]
        }
      ]
    },
    {
      "cell_type": "code",
      "source": [
        "#Program for question 3\n",
        "#Using Bitwise Operators\n",
        "a=56\n",
        "b=10\n",
        "print(\"a&b\", a&b)\n",
        "print(\"a|b\", a|b)\n",
        "print(\"a^b\", a^b)\n",
        "print(\"Shifitng both a and b to the left with 2 bits-\" )\n",
        "print(\"a>\",a<<2)\n",
        "print(\"b>\",b<<2)\n",
        "print(\"Shifting a right by two bits and b by 4 bits-\")\n",
        "print(\"a>\",a>>2)\n",
        "print(\"b>\",b>>4)"
      ],
      "metadata": {
        "id": "qdGuL4nuQjgZ",
        "colab": {
          "base_uri": "https://localhost:8080/"
        },
        "outputId": "1e8e5549-3765-42c0-e395-3c5d589cb518"
      },
      "execution_count": null,
      "outputs": [
        {
          "output_type": "stream",
          "name": "stdout",
          "text": [
            "ques3\n",
            "a&b 8\n",
            "a|b 58\n",
            "a^b 50\n",
            "Shifitng both a and b to the left with 2 bits-\n",
            "a> 224\n",
            "b> 40\n",
            "Shifting a right by two bits and b by 4 bits-\n",
            "a> 14\n",
            "b> 0\n"
          ]
        }
      ]
    },
    {
      "cell_type": "code",
      "source": [
        "#Program for Question 4\n",
        "#Checking if the word \"name\" is present in input sentence\n",
        "word=input(\" Write anything here-\")\n",
        "if(\"name\" in word):print(\"yes\")\n",
        "else: print(\"no\")"
      ],
      "metadata": {
        "id": "KITUKxvvQmjM",
        "colab": {
          "base_uri": "https://localhost:8080/"
        },
        "outputId": "e77a8074-a992-42a5-cc19-437c68d36756"
      },
      "execution_count": null,
      "outputs": [
        {
          "output_type": "stream",
          "name": "stdout",
          "text": [
            "ques4\n",
            " Write anything here-my name is yuvraj\n",
            "yes\n"
          ]
        }
      ]
    },
    {
      "cell_type": "code",
      "source": [
        "1#Program for Question 5\n",
        "#Checking if the three input lengths can make a triangle\n",
        "side_1=(input(\"Enter lenght of first side\"))\n",
        "side_2=(input(\"Enter lenght of second side\"))\n",
        "side_3 =input(\"Enter lenght of third side\")\n",
        "side_1=int(side_1)\n",
        "side_2=int(side_2)\n",
        "side_3=int(side_3)\n",
        "if(side_1==0 or side_2==0 or side_3==0):\n",
        "#As none of the sides of a traingle can be 0 \n",
        "   print(\"NO\")\n",
        "elif(side_1<side_2+side_3 and side_2<side_1+side_3 and side_3<side_1+side_2):\n",
        "#As in a triangle sum of any two side is greater than the third side\n",
        "   print(\"YES\")\n",
        "elif(side_1<0 or side_2<0 or side_3<0):\n",
        "#As a side can't have negative length\n",
        "  print(\"NO\")\n",
        "else:\n",
        "   print(\"NO \")"
      ],
      "metadata": {
        "id": "ePmQXRNPQqGR",
        "colab": {
          "base_uri": "https://localhost:8080/"
        },
        "outputId": "ba1f1b9f-f883-4667-f3a9-0ee9e171ff0f"
      },
      "execution_count": null,
      "outputs": [
        {
          "output_type": "stream",
          "name": "stdout",
          "text": [
            "ques5\n",
            "Enter lenght of first side12\n",
            "Enter lenght of second side3\n",
            "Enter lenght of third side14\n",
            "YES\n"
          ]
        }
      ]
    },
    {
      "cell_type": "code",
      "source": [
        "#Program for question 6\n",
        "#Calculating the number of bits to be flipped to convert 'a' to 'b'\n",
        "a=int(input(\"Enter any integer\"))\n",
        "b=int(input(\"Enter any integer\"))\n",
        "c=bin(a^b) \n",
        "print(c)\n",
        "\n",
        "count=0\n",
        "for i in c[2::]:\n",
        " if i==\"1\":\n",
        "  count=count+1\n",
        "  #as the number of different bits is the number of bits to be flipped\n",
        "print(count)"
      ],
      "metadata": {
        "colab": {
          "base_uri": "https://localhost:8080/"
        },
        "id": "nZIMGWmOOi0I",
        "outputId": "6c8319a0-94e5-4e29-949a-aeae4ea96455"
      },
      "execution_count": null,
      "outputs": [
        {
          "output_type": "stream",
          "name": "stdout",
          "text": [
            "ques6\n",
            "Enter any integer123\n",
            "Enter any integer456\n",
            "0b110110011\n",
            "6\n"
          ]
        }
      ]
    }
  ]
}