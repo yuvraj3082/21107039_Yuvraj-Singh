{
  "nbformat": 4,
  "nbformat_minor": 0,
  "metadata": {
    "colab": {
      "name": "Assignment 4",
      "provenance": [],
      "collapsed_sections": []
    },
    "kernelspec": {
      "name": "python3",
      "display_name": "Python 3"
    },
    "language_info": {
      "name": "python"
    }
  },
  "cells": [
    {
      "cell_type": "code",
      "execution_count": 5,
      "metadata": {
        "colab": {
          "base_uri": "https://localhost:8080/"
        },
        "id": "iNRoM3ALrnTK",
        "outputId": "13ba83e9-64e5-469b-94fb-9b542ba312ad"
      },
      "outputs": [
        {
          "output_type": "stream",
          "name": "stdout",
          "text": [
            "Enter marks between 0 and 100 ,90\n",
            "Grade-A\n"
          ]
        }
      ],
      "source": [
        "#Q1\n",
        "a=int(input(\"Enter marks between 0 and 100 ,\"))\n",
        "if a<25 and a>=0:\n",
        "  print(\"Grade-F\") \n",
        "elif a>=25 and a<45:\n",
        "  print(\"Grade-E\")\n",
        "elif a>=45 and a<50:\n",
        "  print(\"Grade-D\")\n",
        "elif a>=50 and a<60:\n",
        "  print(\"Grade-C\")\n",
        "elif a>=60 and a<80:\n",
        "  print(\"Grade-B\")\n",
        "elif a>=80 and a<=100:\n",
        "  print(\"Grade-A\")\n",
        "else:\n",
        "  print(\"Enter integral value between 0 and 100\")"
      ]
    },
    {
      "cell_type": "code",
      "source": [
        "#Q2\n",
        "y=int(input(\"Enter year: \"))\n",
        "\n",
        "if y%400==0:\n",
        "  print('Leap year')\n",
        "elif y%100==0:\n",
        "  print('Non-Leap Year')\n",
        "elif y%4==0:\n",
        "  print('Leap Year')\n",
        "else :\n",
        "  print('Non- leap year')\n"
      ],
      "metadata": {
        "colab": {
          "base_uri": "https://localhost:8080/"
        },
        "id": "Xp5BxY5Xu0j8",
        "outputId": "0d965ac3-9c2e-48f4-e44f-8d55b6d88b72"
      },
      "execution_count": 4,
      "outputs": [
        {
          "output_type": "stream",
          "name": "stdout",
          "text": [
            "Enter year: 2000\n",
            "Leap year\n"
          ]
        }
      ]
    },
    {
      "cell_type": "code",
      "source": [
        "#Q3\n",
        "from random import randint\n",
        "\n",
        "question = 1\n",
        "\n",
        "while question<11:\n",
        "  a = randint(0,20)\n",
        "  b = randint(0,20)\n",
        "\n",
        "  print('The question is ',a, '*',b)\n",
        "  x= int(input('Enter your answer : '))\n",
        "\n",
        "  if x == a*b:\n",
        "    print ('Right!')\n",
        "  else:\n",
        "    print('Wrong! The answer is', a*b)\n",
        "  question= question+1\n",
        "\n",
        "else:\n",
        "  print ('The game is over')"
      ],
      "metadata": {
        "colab": {
          "base_uri": "https://localhost:8080/"
        },
        "id": "mE4h1keVwgVE",
        "outputId": "a35eef0e-067c-4fa4-818d-43dd3e667364"
      },
      "execution_count": 3,
      "outputs": [
        {
          "output_type": "stream",
          "name": "stdout",
          "text": [
            "The question is  15 * 5\n",
            "Enter your answer : 75\n",
            "Right!\n",
            "The question is  12 * 12\n",
            "Enter your answer : 60\n",
            "Wrong! The answer is 144\n",
            "The question is  12 * 10\n",
            "Enter your answer : 99\n",
            "Wrong! The answer is 120\n",
            "The question is  8 * 19\n",
            "Enter your answer : 88\n",
            "Wrong! The answer is 152\n",
            "The question is  13 * 15\n",
            "Enter your answer : 67\n",
            "Wrong! The answer is 195\n",
            "The question is  14 * 13\n",
            "Enter your answer : 54\n",
            "Wrong! The answer is 182\n",
            "The question is  19 * 6\n",
            "Enter your answer : 114\n",
            "Right!\n",
            "The question is  17 * 5\n",
            "Enter your answer : 85\n",
            "Right!\n",
            "The question is  7 * 1\n",
            "Enter your answer : 9\n",
            "Wrong! The answer is 7\n",
            "The question is  19 * 8\n",
            "Enter your answer : 69\n",
            "Wrong! The answer is 152\n",
            "The game is over\n"
          ]
        }
      ]
    },
    {
      "cell_type": "code",
      "source": [
        "#Q4\n",
        "for candies in range (200):\n",
        "  if candies%5==2:\n",
        "    if candies%6==3:\n",
        "      if candies%7==2:\n",
        "        print(candies, 'candies are in the bowl !')"
      ],
      "metadata": {
        "colab": {
          "base_uri": "https://localhost:8080/"
        },
        "id": "zYDAM6qBhl_0",
        "outputId": "164f6051-3ffa-413c-cbef-1c02af9e18b4"
      },
      "execution_count": 2,
      "outputs": [
        {
          "output_type": "stream",
          "name": "stdout",
          "text": [
            "177 candies are in the bowl !\n"
          ]
        }
      ]
    }
  ]
}