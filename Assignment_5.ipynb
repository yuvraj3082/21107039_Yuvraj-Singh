{
  "nbformat": 4,
  "nbformat_minor": 0,
  "metadata": {
    "colab": {
      "name": "Assignment 5",
      "provenance": []
    },
    "kernelspec": {
      "name": "python3",
      "display_name": "Python 3"
    },
    "language_info": {
      "name": "python"
    }
  },
  "cells": [
    {
      "cell_type": "code",
      "execution_count": 63,
      "metadata": {
        "colab": {
          "base_uri": "https://localhost:8080/"
        },
        "id": "UNVdej0z_oU7",
        "outputId": "87264a78-88b1-47c0-e2d7-8891d8f04de4"
      },
      "outputs": [
        {
          "output_type": "stream",
          "name": "stdout",
          "text": [
            "Q1\n",
            "Enter any string- this python assignment is long\n",
            "gnol si tnemngissa nohtyp siht\n"
          ]
        }
      ],
      "source": [
        "#Q1\n",
        "print(\"Q1\")\n",
        "a=input(\"Enter any string- \")\n",
        "b=a[::-1]\n",
        "print(b)"
      ]
    },
    {
      "cell_type": "code",
      "source": [
        "#Q2\n",
        "print(\"Q2\")\n",
        "m=int(input(\"Decide range of function- \"))\n",
        "n=int(input(\"Decide divisor- \" ))\n",
        "for i in range(1,m):\n",
        "  if i%n==0:\n",
        "    print(i,\" is divisible by \",n)\n",
        "  else:\n",
        "    print(i,\" is not divisible by \",n)"
      ],
      "metadata": {
        "colab": {
          "base_uri": "https://localhost:8080/"
        },
        "id": "yRLo6sbGZdpO",
        "outputId": "ba63c5b8-3204-40f1-f3a7-4c66b5fd6cbb"
      },
      "execution_count": 64,
      "outputs": [
        {
          "output_type": "stream",
          "name": "stdout",
          "text": [
            "Q2\n",
            "Decide range of function- 43\n",
            "Decide divisor- 7\n",
            "1  is not divisible by  7\n",
            "2  is not divisible by  7\n",
            "3  is not divisible by  7\n",
            "4  is not divisible by  7\n",
            "5  is not divisible by  7\n",
            "6  is not divisible by  7\n",
            "7  is divisible by  7\n",
            "8  is not divisible by  7\n",
            "9  is not divisible by  7\n",
            "10  is not divisible by  7\n",
            "11  is not divisible by  7\n",
            "12  is not divisible by  7\n",
            "13  is not divisible by  7\n",
            "14  is divisible by  7\n",
            "15  is not divisible by  7\n",
            "16  is not divisible by  7\n",
            "17  is not divisible by  7\n",
            "18  is not divisible by  7\n",
            "19  is not divisible by  7\n",
            "20  is not divisible by  7\n",
            "21  is divisible by  7\n",
            "22  is not divisible by  7\n",
            "23  is not divisible by  7\n",
            "24  is not divisible by  7\n",
            "25  is not divisible by  7\n",
            "26  is not divisible by  7\n",
            "27  is not divisible by  7\n",
            "28  is divisible by  7\n",
            "29  is not divisible by  7\n",
            "30  is not divisible by  7\n",
            "31  is not divisible by  7\n",
            "32  is not divisible by  7\n",
            "33  is not divisible by  7\n",
            "34  is not divisible by  7\n",
            "35  is divisible by  7\n",
            "36  is not divisible by  7\n",
            "37  is not divisible by  7\n",
            "38  is not divisible by  7\n",
            "39  is not divisible by  7\n",
            "40  is not divisible by  7\n",
            "41  is not divisible by  7\n",
            "42  is divisible by  7\n"
          ]
        }
      ]
    },
    {
      "cell_type": "code",
      "source": [
        "#Q3\n",
        "print(\"Q3\")\n",
        "a=int(input(\"Enter first side- \"))\n",
        "b=int(input(\"Enter second side- \"))\n",
        "c=int(input(\"Enter third side- \"))\n",
        "s=(a+b+c)/2\n",
        "m=(s*(s-b)*(s-a)*(s-c))\n",
        "x=(m)**(1/2)\n",
        "#As in a triangle sum of two sides is always greater than the third side\n",
        "if(a+b<c or a+c<b or b+c<a):\n",
        "  print(\"These three side dont form a triangle\")\n",
        "elif(a==0 or b==0 or c==0):\n",
        "  print(\"A side of a triangle can't be 0\")\n",
        "else:\n",
        "  print(\"Area of the triangle is \",x,\" sq. units\")\n",
        "\n",
        "\n"
      ],
      "metadata": {
        "colab": {
          "base_uri": "https://localhost:8080/"
        },
        "id": "fTLKYwbjbuc-",
        "outputId": "dfb62849-042b-4e48-f68f-e2ab441cf4fc"
      },
      "execution_count": 65,
      "outputs": [
        {
          "output_type": "stream",
          "name": "stdout",
          "text": [
            "Q3\n",
            "Enter first side- 6\n",
            "Enter second side- 8\n",
            "Enter third side- 10\n",
            "Area of the triangle is  24.0  sq. units\n"
          ]
        }
      ]
    },
    {
      "cell_type": "code",
      "source": [
        "#Q4\n",
        "print(\"Q4\")\n",
        "for i in range (1,6):\n",
        "  for j in range (0,i):\n",
        "    print(\"*\",end='')\n",
        "  print()\n",
        "for i in range(0,5):\n",
        "   j=4-i\n",
        "   while j>0:\n",
        "     print(\"*\", end='')\n",
        "     j=j-1\n",
        "   print()   \n"
      ],
      "metadata": {
        "colab": {
          "base_uri": "https://localhost:8080/"
        },
        "id": "pZw4lAL2nq8m",
        "outputId": "bbcb5cdd-464d-4790-b58e-b29ea41c6440"
      },
      "execution_count": 66,
      "outputs": [
        {
          "output_type": "stream",
          "name": "stdout",
          "text": [
            "Q4\n",
            "*\n",
            "**\n",
            "***\n",
            "****\n",
            "*****\n",
            "****\n",
            "***\n",
            "**\n",
            "*\n",
            "\n"
          ]
        }
      ]
    },
    {
      "cell_type": "code",
      "source": [
        "#Q5\n",
        "print(\"Q5\")\n",
        "a1='ABCDEFGHIJKLMNOPQRSTUVWXYZ'\n",
        "a=a1\n",
        "n= int(input(\"enter the number: \"))\n",
        "for i in range(1,n+1):\n",
        "    if len(a)<i:\n",
        "        a=a+a1\n",
        "    for j in range(0,i):\n",
        "        print(a[j], end='')\n",
        "        \n",
        "    print()\n",
        "    \n",
        "    a=a[i:]"
      ],
      "metadata": {
        "colab": {
          "base_uri": "https://localhost:8080/"
        },
        "id": "5ApNoK01M7Zc",
        "outputId": "9b45574d-ecca-49d7-9c2f-df5d3359c206"
      },
      "execution_count": 67,
      "outputs": [
        {
          "output_type": "stream",
          "name": "stdout",
          "text": [
            "Q5\n",
            "enter the number: 7\n",
            "A\n",
            "BC\n",
            "DEF\n",
            "GHIJ\n",
            "KLMNO\n",
            "PQRSTU\n",
            "VWXYZAB\n"
          ]
        }
      ]
    },
    {
      "cell_type": "code",
      "source": [
        "#Q6\n",
        "print(\"Q6\")\n",
        "lower_value=int(input(\"Enter the lower value of range: \"))\n",
        "upper_value=int(input(\"Enter the upper value of range: \"))\n",
        "\n",
        "for number in range(lower_value,upper_value+1):   # +1 for including the upper limit as well\n",
        "  if number>1:\n",
        "    for i in range (2,number):\n",
        "      if number%i ==0:\n",
        "        break\n",
        "    else:\n",
        "      print(number)"
      ],
      "metadata": {
        "colab": {
          "base_uri": "https://localhost:8080/"
        },
        "id": "rIW-GkQeNSDJ",
        "outputId": "bdbb3415-bda5-4a62-f551-9634be46e430"
      },
      "execution_count": 68,
      "outputs": [
        {
          "output_type": "stream",
          "name": "stdout",
          "text": [
            "Q6\n",
            "Enter the lower value of range: 2\n",
            "Enter the upper value of range: 12\n",
            "2\n",
            "3\n",
            "5\n",
            "7\n",
            "11\n"
          ]
        }
      ]
    },
    {
      "cell_type": "code",
      "source": [
        "#Q7\n",
        "print(\"Q7\")\n",
        "for i in range (1,500):\n",
        " if i%77==0:\n",
        "   print(i)"
      ],
      "metadata": {
        "colab": {
          "base_uri": "https://localhost:8080/"
        },
        "id": "SVzab0PXWfP1",
        "outputId": "73ae7c5b-17e1-469b-82c3-81b4ade594cd"
      },
      "execution_count": 69,
      "outputs": [
        {
          "output_type": "stream",
          "name": "stdout",
          "text": [
            "Q7\n",
            "77\n",
            "154\n",
            "231\n",
            "308\n",
            "385\n",
            "462\n"
          ]
        }
      ]
    },
    {
      "cell_type": "code",
      "source": [
        "#Q8\n",
        "print(\"Q8\")\n",
        "n= input (\"Enter a list of integers:\")\n",
        "int_list = n.split(',')\n",
        "print(int_list)\n",
        "\n",
        "#part (a)\n",
        "print (\"Positive numbers are:\")\n",
        "for i in int_list:\n",
        " j= int(i)\n",
        " if j > 0:\n",
        "  print (j)\n",
        "  j=j+1\n",
        "\n",
        "#part (b)\n",
        "print (\"Negative numbers are\")\n",
        "for i in int_list:\n",
        " j= int(i)\n",
        " if j < 0:\n",
        "  print (j)\n",
        "  j=j+1\n",
        "\n",
        "#part (c)\n",
        "print (\"Odd numbers are:\")\n",
        "for i in int_list:\n",
        " j= int(i)\n",
        " if j %2 !=0:\n",
        "  print (j)\n",
        "  j= j+1\n",
        "\n",
        "#part (d)\n",
        "print (\"Even numbers are:\")\n",
        "for j in int_list:\n",
        " j= int(j)\n",
        " if j %2==0:\n",
        "  print (j)\n",
        "  j= j+11\n",
        "\n",
        "#part(e)\n",
        "for i in int_list:\n",
        " g=0\n",
        " n=0\n",
        " if(i=='---'):\n",
        "   continue\n",
        "\n",
        " for j in int_list:\n",
        "   if i==j:\n",
        "    n=n+1\n",
        "    int_list[g]='----'\n",
        "   g = g + 1  \n",
        " print ( \"Number of times\", i,\"occured : \",n) \n"
      ],
      "metadata": {
        "colab": {
          "base_uri": "https://localhost:8080/"
        },
        "id": "XdA60hKWW1lf",
        "outputId": "d3e8c6e3-b612-4beb-f15c-91c4d534dfc2"
      },
      "execution_count": 78,
      "outputs": [
        {
          "output_type": "stream",
          "name": "stdout",
          "text": [
            "Q8\n",
            "Enter a list of integers:1,1,1,1\n",
            "['1', '1', '1', '1']\n",
            "Positive numbers are:\n",
            "1\n",
            "1\n",
            "1\n",
            "1\n",
            "Negative numbers are\n",
            "Odd numbers are:\n",
            "1\n",
            "1\n",
            "1\n",
            "1\n",
            "Even numbers are:\n",
            "Number of times 1 occured :  4\n",
            "Number of times ---- occured :  4\n",
            "Number of times ---- occured :  4\n",
            "Number of times ---- occured :  4\n"
          ]
        }
      ]
    },
    {
      "cell_type": "code",
      "source": [
        " #Q9\n",
        " print(\"Q9\")\n",
        " words=input(\"Enter a list of words: \")\n",
        " list = words.split()\n",
        " print (list)\n",
        "\n",
        " for i in list:\n",
        "  g=0\n",
        "  n=0\n",
        "  if (i=='----'):\n",
        "   continue\n",
        "  \n",
        "  for j in list:\n",
        "   if i==j:\n",
        "    n=n+1\n",
        "    list[g]='----'\n",
        "   g = g+1\n",
        "  print (\"Number of times\",i,\"occured :\",n)"
      ],
      "metadata": {
        "colab": {
          "base_uri": "https://localhost:8080/"
        },
        "id": "jAdu2O0pfwX3",
        "outputId": "3326039f-2c40-468c-c12f-33f0c8d87181"
      },
      "execution_count": 74,
      "outputs": [
        {
          "output_type": "stream",
          "name": "stdout",
          "text": [
            "Q9\n",
            "Enter a list of words: hello hello\n",
            "['hello', 'hello']\n",
            "Number of times hello occured : 2\n"
          ]
        }
      ]
    }
  ]
}