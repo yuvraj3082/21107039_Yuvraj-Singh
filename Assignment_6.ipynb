{
  "nbformat": 4,
  "nbformat_minor": 0,
  "metadata": {
    "colab": {
      "name": "Assignment 6",
      "provenance": []
    },
    "kernelspec": {
      "name": "python3",
      "display_name": "Python 3"
    },
    "language_info": {
      "name": "python"
    }
  },
  "cells": [
    {
      "cell_type": "code",
      "source": [
        "#Q1\n",
        "\n",
        "\n",
        "def perfect(num):\n",
        "    num_div=[]\n",
        "    sum=0\n",
        "\n",
        "    for i in range(1,num+1):\n",
        "        if num%i==0:\n",
        "            num_div.append(i)\n",
        "    print(\"divisors of \", num,\" are \", num_div)\n",
        "\n",
        "    for elem in num_div:\n",
        "        sum= sum+elem\n",
        "    if num==0.5*sum:\n",
        "        print(num, \" is a perfect number.\")\n",
        "    else:\n",
        "        print(num, \" is not a perfect number.\")\n",
        "\n",
        "num= int(input(\"enter a number to check whether its perfect: \"))\n",
        "perfect(num)"
      ],
      "metadata": {
        "colab": {
          "base_uri": "https://localhost:8080/"
        },
        "id": "z4QDs5-AtT0n",
        "outputId": "d3bfce47-0267-45b0-9155-5c3053c19a8a"
      },
      "execution_count": 29,
      "outputs": [
        {
          "output_type": "stream",
          "name": "stdout",
          "text": [
            "enter a number to check whether its perfect: 12\n",
            "divisors of  12  are  [1, 2, 3, 4, 6, 12]\n",
            "12  is not a perfect number.\n"
          ]
        }
      ]
    },
    {
      "cell_type": "code",
      "source": [
        "#Q2\n",
        "\n",
        "\n",
        "def palindrome(string):\n",
        "    rev_string=string[::-1]\n",
        "    print(rev_string)\n",
        "    if string==rev_string:\n",
        "        print(\"entered string is a palindrome\")\n",
        "    else:\n",
        "        print(\"entered string is not a palindrome\")\n",
        "\n",
        "user_string=str(input(\"enter a word, phrase or sentence: \"))\n",
        "palindrome(user_string)"
      ],
      "metadata": {
        "colab": {
          "base_uri": "https://localhost:8080/"
        },
        "id": "2RWknLwjtZKy",
        "outputId": "cb58c096-7858-4e88-9c04-93e08fcc9aec"
      },
      "execution_count": 28,
      "outputs": [
        {
          "output_type": "stream",
          "name": "stdout",
          "text": [
            "enter a word, phrase or sentence: this python assignment is long\n",
            "gnol si tnemngissa nohtyp siht\n",
            "entered string is not a palindrome\n"
          ]
        }
      ]
    },
    {
      "cell_type": "code",
      "source": [
        "#Q3\n",
        "\n",
        "\n",
        "from math import factorial\n",
        "\n",
        "n=5\n",
        "for i in range(n):\n",
        "    for j in range(n-1-i):\n",
        "        print(\" \", end=\"\")\n",
        "    for k in range (i+1):\n",
        "        print(factorial(i) // (factorial(i-k)*factorial(k)) , end=\" \") # nCr = n! / ((n-r)! * r!)\n",
        "    print()"
      ],
      "metadata": {
        "colab": {
          "base_uri": "https://localhost:8080/"
        },
        "id": "o-Dqp7-EtbVo",
        "outputId": "8f0c6588-7290-4a93-bef3-7efc4a6ccc97"
      },
      "execution_count": 27,
      "outputs": [
        {
          "output_type": "stream",
          "name": "stdout",
          "text": [
            "    1 \n",
            "   1 1 \n",
            "  1 2 1 \n",
            " 1 3 3 1 \n",
            "1 4 6 4 1 \n"
          ]
        }
      ]
    },
    {
      "cell_type": "code",
      "source": [
        "#Q4\n",
        "\n",
        "\n",
        "def palgram(str):\n",
        "    alphabet=\"abcdefghijklmnopqrstuvwxyz\"\n",
        "    for char in alphabet:\n",
        "        if char not in str:\n",
        "            return False\n",
        "    return True\n",
        "\n",
        "user_string=str(input(\"Enter a sentence: \"))\n",
        "if palgram(user_string)==False:\n",
        "    print(\"entered sentence is not a palgram\")\n",
        "else:\n",
        "    print(\"entered sentence is palgram\")"
      ],
      "metadata": {
        "colab": {
          "base_uri": "https://localhost:8080/"
        },
        "id": "3tt385zdte94",
        "outputId": "38990797-aea2-4db7-dc06-6ce2e173833c"
      },
      "execution_count": 26,
      "outputs": [
        {
          "output_type": "stream",
          "name": "stdout",
          "text": [
            "Enter a sentence: this python assignment is long\n",
            "entered sentence is not a palgram\n"
          ]
        }
      ]
    },
    {
      "cell_type": "code",
      "source": [
        "#Q5\n",
        "\n",
        "\n",
        "input_string=str(input(\"enter a hyphen separated sentence: \"))\n",
        "\n",
        "li=list(input_string.split(\"-\"))\n",
        "li.sort()\n",
        "\n",
        "print(\"-\".join(li))"
      ],
      "metadata": {
        "colab": {
          "base_uri": "https://localhost:8080/"
        },
        "id": "QQPiCsC2tiug",
        "outputId": "a609f05a-39b8-4fea-b740-338b8a7e81f0"
      },
      "execution_count": 25,
      "outputs": [
        {
          "output_type": "stream",
          "name": "stdout",
          "text": [
            "enter a hyphen separated sentence: this python assignment -long\n",
            "long-this python assignment \n"
          ]
        }
      ]
    },
    {
      "cell_type": "code",
      "source": [
        "#Q6\n",
        "\n",
        "\n",
        "def student_data(student_name , student_branch, student_id):\n",
        "    print(\"student name: \",student_name)\n",
        "    print(\"student branch: \",student_branch)\n",
        "    print(\"student id: \",student_id)\n",
        "\n",
        "student_data(\"Yuvraj\",\"Mechanical\",21107039)"
      ],
      "metadata": {
        "colab": {
          "base_uri": "https://localhost:8080/"
        },
        "id": "RlOXWVp-tmDR",
        "outputId": "82e81f11-5f3d-4da3-c966-9f5c7aa03ede"
      },
      "execution_count": 24,
      "outputs": [
        {
          "output_type": "stream",
          "name": "stdout",
          "text": [
            "student name:  Yuvraj\n",
            "student branch:  Mechanical\n",
            "student id:  21107039\n"
          ]
        }
      ]
    },
    {
      "cell_type": "code",
      "source": [
        "#Q7\n",
        "\n",
        "\n",
        "class Student:\n",
        "    pass \n",
        "class Marks:\n",
        "    pass \n",
        "student1 = Student()\n",
        "marks1 = Marks()\n",
        "print(isinstance(student1, Student))\n",
        "print(isinstance(marks1, Student))\n",
        "print(isinstance(marks1, Marks)) \n",
        "print(isinstance(student1, Marks))\n",
        "print(\"Check whether the said classes are subclasses of the built-in object class or not.\")\n",
        "print(issubclass(Student, object))\n",
        "print(issubclass(Marks, object))\n",
        "print()"
      ],
      "metadata": {
        "colab": {
          "base_uri": "https://localhost:8080/"
        },
        "id": "ar9xVkx-tpg5",
        "outputId": "98fe3043-7c4d-467b-d553-d84d9ac9f285"
      },
      "execution_count": 23,
      "outputs": [
        {
          "output_type": "stream",
          "name": "stdout",
          "text": [
            "True\n",
            "False\n",
            "True\n",
            "False\n",
            "Check whether the said classes are subclasses of the built-in object class or not.\n",
            "True\n",
            "True\n",
            "\n"
          ]
        }
      ]
    },
    {
      "cell_type": "code",
      "source": [
        "#Q8\n",
        "#Function to find three elements whose sum is equal to zero\n",
        "\n",
        "def findTriplets(arr, n):\n",
        "    new_list = []\n",
        "    found = False\n",
        "    for i in range(0, n-2):\n",
        "      \n",
        "        for j in range(i+1, n-1):\n",
        "          \n",
        "            for k in range(j+1, n):\n",
        "              \n",
        "                if (arr[i] + arr[j] + arr[k] == 0):\n",
        "                  l = [arr[i], arr[j], arr[k]]\n",
        "                  \n",
        "                  found = True\n",
        "                  \n",
        "                  new_list.append(l)\n",
        "                  print ('Output : ', new_list)\n",
        "     \n",
        "    if (found == False):\n",
        "        print(\" No triplet exists \")\n",
        "\n",
        "\n",
        "\n",
        "lst =[]       \n",
        "n = int(input('Enter number of elements :'))\n",
        "\n",
        "for i in range (0,n):\n",
        "  ele = int(input())\n",
        "  lst.append(ele)\n",
        "\n",
        "print ('Input array : ', lst)\n",
        "\n",
        "findTriplets(lst,n)"
      ],
      "metadata": {
        "colab": {
          "base_uri": "https://localhost:8080/"
        },
        "id": "FUyholn8uDLn",
        "outputId": "bc4e91b0-722e-4912-a975-8b2c6f5dcb3f"
      },
      "execution_count": 21,
      "outputs": [
        {
          "output_type": "stream",
          "name": "stdout",
          "text": [
            "Enter number of elements :6\n",
            "-10\n",
            "3\n",
            "69\n",
            "420\n",
            "-99\n",
            "-33\n",
            "Input array :  [-10, 3, 69, 420, -99, -33]\n",
            " No triplet exists \n"
          ]
        }
      ]
    },
    {
      "cell_type": "code",
      "source": [
        "# Q9\n",
        "\n",
        "\n",
        "class parantheses:\n",
        "    def find(str):\n",
        "        a= ['()', '{}', '[]'] \n",
        "        while any(i in str for i in a):\n",
        "            for j in a:\n",
        "                str = str.replace(j, '') \n",
        "        return not str \n",
        "\n",
        "s = input(\"Enter the sequence of parantheses : \")\n",
        "if parantheses.find(s):\n",
        "    print(s,\"-\",\"is balanced\")\n",
        "else:\n",
        "    print(s,\"-\",\"is unbalanced\")\n",
        "\n"
      ],
      "metadata": {
        "colab": {
          "base_uri": "https://localhost:8080/"
        },
        "id": "ZZUuGfZ3uDr3",
        "outputId": "3288e996-d337-4e57-c9b7-47620242ce93"
      },
      "execution_count": 22,
      "outputs": [
        {
          "output_type": "stream",
          "name": "stdout",
          "text": [
            "Enter the sequence of parantheses : ({])\n",
            "({]) - is unbalanced\n"
          ]
        }
      ]
    }
  ]
}