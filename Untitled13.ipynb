{
  "nbformat": 4,
  "nbformat_minor": 0,
  "metadata": {
    "colab": {
      "name": "Untitled13.ipynb",
      "provenance": []
    },
    "kernelspec": {
      "name": "python3",
      "display_name": "Python 3"
    },
    "language_info": {
      "name": "python"
    }
  },
  "cells": [
    {
      "cell_type": "code",
      "execution_count": 2,
      "metadata": {
        "id": "N1NBDvKOS_3a",
        "colab": {
          "base_uri": "https://localhost:8080/"
        },
        "outputId": "ae41f2d4-f74f-49ac-b05b-68bde7f5f35c"
      },
      "outputs": [
        {
          "output_type": "stream",
          "name": "stdout",
          "text": [
            "Enter any integer here69\n",
            "1000101\n"
          ]
        }
      ],
      "source": [
        "#Q1\n",
        "a=int(input(\"Enter any integer here\"))\n",
        "b=bin(a)\n",
        "#As we have to exclude unwanted \"0b\" part\n",
        "print(b[2::])"
      ]
    },
    {
      "cell_type": "code",
      "source": [
        "#Q2\n",
        "n = input(\"Enter the expression \")\n",
        "print(eval(n))"
      ],
      "metadata": {
        "colab": {
          "base_uri": "https://localhost:8080/"
        },
        "id": "R_ya_q-vQsih",
        "outputId": "a9bc4d04-b38c-4bf1-dea9-9b74b5b11ff0"
      },
      "execution_count": 3,
      "outputs": [
        {
          "output_type": "stream",
          "name": "stdout",
          "text": [
            "Enter the expression 8*2\n",
            "16\n"
          ]
        }
      ]
    },
    {
      "cell_type": "code",
      "source": [
        "#Q3\n",
        "import math as mt\n",
        "\n",
        "n = int(input(\"Enter the number n: \"))\n",
        "r = int(input(\"Enter the number r: \"))\n",
        "a = int(input(\"Enter the angle a: \"))\n",
        "b = int(input(\"Enter the angle b: \"))\n",
        "\n",
        "x1 = int(input(\"Enter the number x1: \"))\n",
        "x2 = int(input(\"Enter the number x2: \"))\n",
        "\n",
        "y1 = int(input(\"Enter the number y1: \"))\n",
        "y2 = int(input(\"Enter the number y2: \"))\n",
        "\n",
        "print(\"(3+4)(5) = \", (3+4)*5)\n",
        "print(\"n(n-1)/2 = \", (n*(n-1)/1))\n",
        "print(\"4(pi)r^2 = \", 4*mt.pi*(r^2) )\n",
        "print(\"sqrt(r(cosa)^2 + r(sinb)^2) = \", ((r*((mt.cos(a))**2)) + (r*((mt.sin(b))**2)))**(0.5))\n",
        "if x2 == x1:\n",
        "    print(\"NOT DEFINED\")\n",
        "else: \n",
        "    print(\"y2-y1/x2-x1 = \", (y2 - y1)/(x2 - x1))"
      ],
      "metadata": {
        "colab": {
          "base_uri": "https://localhost:8080/"
        },
        "id": "NDnpQvjoR6oB",
        "outputId": "021e646a-b674-45d2-c19d-99d953cca5cc"
      },
      "execution_count": 4,
      "outputs": [
        {
          "output_type": "stream",
          "name": "stdout",
          "text": [
            "Enter the number n: 12\n",
            "Enter the number r: 3\n",
            "Enter the angle a: 45\n",
            "Enter the angle b: 60\n",
            "Enter the number x1: 2\n",
            "Enter the number x2: 4\n",
            "Enter the number y1: 89\n",
            "Enter the number y2: 123\n",
            "(3+4)(5) =  35\n",
            "n(n-1)/2 =  132.0\n",
            "4(pi)r^2 =  12.566370614359172\n",
            "sqrt(r(cosa)^2 + r(sinb)^2) =  1.051959181725414\n",
            "y2-y1/x2-x1 =  17.0\n"
          ]
        }
      ]
    },
    {
      "cell_type": "code",
      "source": [
        "#Q4\n",
        "\n",
        "print(\"In the range(5)\")\n",
        "for i in range(5):\n",
        "    print(i)\n",
        "\n",
        "print(\" \")\n",
        "print(\"In the range(3, 10)\")\n",
        "for i in range(3, 10):\n",
        "    print(i) \n",
        "\n",
        "print(\" \")\n",
        "print(\"In the range(4 ,13, 3)\")\n",
        "for i in range(4 ,13, 3):\n",
        "    print(i) \n",
        "\n",
        "print(\" \")\n",
        "print(\"In the range(15, 5, -2)\")\n",
        "for i in range(15, 5, -2):\n",
        "    print(i) \n",
        "\n",
        "print(\" \")\n",
        "print(\"In the range(5, 3)\")\n",
        "for i in range(5, 3):\n",
        "    print(i) "
      ],
      "metadata": {
        "colab": {
          "base_uri": "https://localhost:8080/"
        },
        "id": "-DpJ14MLSFVd",
        "outputId": "1c13ecf0-4b5d-469c-d4ed-b4089fffc07b"
      },
      "execution_count": 6,
      "outputs": [
        {
          "output_type": "stream",
          "name": "stdout",
          "text": [
            "In the range(5)\n",
            "0\n",
            "1\n",
            "2\n",
            "3\n",
            "4\n",
            " \n",
            "In the range(3, 10)\n",
            "3\n",
            "4\n",
            "5\n",
            "6\n",
            "7\n",
            "8\n",
            "9\n",
            " \n",
            "In the range(4 ,13, 3)\n",
            "4\n",
            "7\n",
            "10\n",
            " \n",
            "In the range(15, 5, -2)\n",
            "15\n",
            "13\n",
            "11\n",
            "9\n",
            "7\n",
            " \n",
            "In the range(5, 3)\n"
          ]
        }
      ]
    },
    {
      "cell_type": "code",
      "source": [
        "#Q5\n",
        "h = int(input(\"Enter the number of hydrogen atoms: \"))\n",
        "c = int(input(\"Enter the number of carbon atoms: \"))\n",
        "o = int(input(\"Enter the number of oxygen atoms: \"))\n",
        "\n",
        "wt_h = h*1.00794\n",
        "wt_c = c*12.0107\n",
        "wt_o = o*15.99994\n",
        "\n",
        "print(wt_h + wt_o + wt_c)\n"
      ],
      "metadata": {
        "colab": {
          "base_uri": "https://localhost:8080/"
        },
        "id": "l0bzABajSJQy",
        "outputId": "c0fa4765-dceb-4db2-9a79-16b433d9df96"
      },
      "execution_count": 7,
      "outputs": [
        {
          "output_type": "stream",
          "name": "stdout",
          "text": [
            "Enter the number of hydrogen atoms: 12\n",
            "Enter the number of carbon atoms: 6\n",
            "Enter the number of oxygen atoms: 6\n",
            "180.15912\n"
          ]
        }
      ]
    }
  ]
}